{
  "cells": [
    {
      "cell_type": "markdown",
      "metadata": {
        "id": "view-in-github",
        "colab_type": "text"
      },
      "source": [
        "<a href=\"https://colab.research.google.com/github/boolean0-0/Melanoma_Detection/blob/main/Melanoma_Detection_ConvNet.ipynb\" target=\"_parent\"><img src=\"https://colab.research.google.com/assets/colab-badge.svg\" alt=\"Open In Colab\"/></a>"
      ]
    },
    {
      "cell_type": "code",
      "execution_count": null,
      "metadata": {
        "id": "O2OHGng8Oq01"
      },
      "outputs": [],
      "source": [
        "# Robert Lincoln Jones\n",
        "# A system to detect skin cancer from images\n",
        "# Started 10/18/2024"
      ]
    },
    {
      "cell_type": "code",
      "execution_count": null,
      "metadata": {
        "colab": {
          "base_uri": "https://localhost:8080/"
        },
        "id": "A5tEFLmHOzrW",
        "outputId": "2605c31a-9921-4e2f-ca65-07c4c988c327"
      },
      "outputs": [
        {
          "output_type": "stream",
          "name": "stdout",
          "text": [
            "Path to dataset files: /root/.cache/kagglehub/datasets/kmader/skin-cancer-mnist-ham10000/versions/2\n"
          ]
        }
      ],
      "source": [
        "import kagglehub\n",
        "path = kagglehub.dataset_download(\"kmader/skin-cancer-mnist-ham10000\")\n",
        "\n",
        "print(\"Path to dataset files:\", path)"
      ]
    },
    {
      "cell_type": "code",
      "execution_count": null,
      "metadata": {
        "id": "uuHCXwtqO8LF"
      },
      "outputs": [],
      "source": [
        "import pandas as pd\n",
        "skin_csv = pd.read_csv(path + '/HAM10000_metadata.csv')"
      ]
    },
    {
      "cell_type": "code",
      "execution_count": null,
      "metadata": {
        "colab": {
          "base_uri": "https://localhost:8080/"
        },
        "id": "YKHX3mXLPORl",
        "outputId": "eed88f51-845d-47d2-9b16-2062deb1553b"
      },
      "outputs": [
        {
          "output_type": "stream",
          "name": "stdout",
          "text": [
            "     lesion_id      image_id   dx dx_type   age   sex localization\n",
            "0  HAM_0000118  ISIC_0027419  bkl   histo  80.0  male        scalp\n",
            "1  HAM_0000118  ISIC_0025030  bkl   histo  80.0  male        scalp\n",
            "2  HAM_0002730  ISIC_0026769  bkl   histo  80.0  male        scalp\n",
            "3  HAM_0002730  ISIC_0025661  bkl   histo  80.0  male        scalp\n",
            "4  HAM_0001466  ISIC_0031633  bkl   histo  75.0  male          ear\n"
          ]
        }
      ],
      "source": [
        "print(skin_csv.head())"
      ]
    },
    {
      "cell_type": "code",
      "execution_count": null,
      "metadata": {
        "colab": {
          "base_uri": "https://localhost:8080/"
        },
        "id": "yQTFmTOQPQF6",
        "outputId": "20a602be-d2a6-45f6-fba3-0181d884707b"
      },
      "outputs": [
        {
          "output_type": "stream",
          "name": "stdout",
          "text": [
            "dx\n",
            "nv       6705\n",
            "mel      1113\n",
            "bkl      1099\n",
            "bcc       514\n",
            "akiec     327\n",
            "vasc      142\n",
            "df        115\n",
            "Name: count, dtype: int64\n"
          ]
        }
      ],
      "source": [
        "print(skin_csv['dx'].value_counts())"
      ]
    },
    {
      "cell_type": "markdown",
      "metadata": {
        "id": "dLlftxchQ9F2"
      },
      "source": [
        "# Combining the folders and making a dataset"
      ]
    },
    {
      "cell_type": "code",
      "execution_count": null,
      "metadata": {
        "colab": {
          "base_uri": "https://localhost:8080/"
        },
        "id": "4TOxDAy-PSHq",
        "outputId": "8ad89fe9-a7f1-454b-a6a2-82a080a06b73"
      },
      "outputs": [
        {
          "output_type": "stream",
          "name": "stdout",
          "text": [
            "Path to dataset files: /root/.cache/kagglehub/datasets/kmader/skin-cancer-mnist-ham10000/versions/2\n",
            "Files combined into: /root/.cache/kagglehub/datasets/kmader/skin-cancer-mnist-ham10000/versions/2/HAM10000_images_combined\n"
          ]
        }
      ],
      "source": [
        "# The HAM-10000 dataset is divided into two folders\n",
        "# Combine the two folders into one\n",
        "# Just for simplification purposes\n",
        "\n",
        "import os\n",
        "import shutil\n",
        "\n",
        "print(\"Path to dataset files:\", path)\n",
        "skin_csv = pd.read_csv(\"/root/.cache/kagglehub/datasets/kmader/skin-cancer-mnist-ham10000/versions/2/HAM10000_metadata.csv\")\n",
        "\n",
        "\n",
        "source_folder1 = '/root/.cache/kagglehub/datasets/kmader/skin-cancer-mnist-ham10000/versions/2/HAM10000_images_part_1'\n",
        "source_folder2 = '/root/.cache/kagglehub/datasets/kmader/skin-cancer-mnist-ham10000/versions/2/HAM10000_images_part_2'\n",
        "destination_folder = '/root/.cache/kagglehub/datasets/kmader/skin-cancer-mnist-ham10000/versions/2/HAM10000_images_combined'\n",
        "\n",
        "try:\n",
        "  shutil.rmtree(destination_folder)\n",
        "except:\n",
        "  print(\"Creating a folder at \", destination_folder)\n",
        "# Create the destination folder if it doesn't exist\n",
        "os.makedirs(destination_folder, exist_ok=True)\n",
        "\n",
        "# Function to copy files from source to destination\n",
        "def copy_files(source, destination):\n",
        "    for filename in os.listdir(source):\n",
        "        source_file = os.path.join(source, filename)\n",
        "        destination_file = os.path.join(destination, filename)\n",
        "        if os.path.isfile(source_file):\n",
        "            shutil.copy(source_file, destination_file)\n",
        "\n",
        "# Copy files from the first source folder\n",
        "copy_files(source_folder1, destination_folder)\n",
        "\n",
        "# Copy files from the second source folder\n",
        "copy_files(source_folder2, destination_folder)\n",
        "\n",
        "print(f\"Files combined into: {destination_folder}\")"
      ]
    },
    {
      "cell_type": "code",
      "execution_count": null,
      "metadata": {
        "id": "c-PZcQsQQ8PD"
      },
      "outputs": [],
      "source": [
        "\n",
        "import numpy as np\n",
        "from PIL import Image\n",
        "\n",
        "X_train = []\n",
        "y_train = []\n",
        "X_test = []\n",
        "y_test = []\n",
        "X_val = []\n",
        "y_val = []"
      ]
    },
    {
      "cell_type": "code",
      "execution_count": null,
      "metadata": {
        "id": "NovafmNyRss7",
        "colab": {
          "base_uri": "https://localhost:8080/"
        },
        "outputId": "25e54a28-f71e-4cb9-9896-f79ffc5a1998"
      },
      "outputs": [
        {
          "output_type": "execute_result",
          "data": {
            "text/plain": [
              "10015"
            ]
          },
          "metadata": {},
          "execution_count": 41
        }
      ],
      "source": [
        "images_dir = '/root/.cache/kagglehub/datasets/kmader/skin-cancer-mnist-ham10000/versions/2/HAM10000_images_combined'\n",
        "\n",
        "for im in os.listdir(images_dir):\n",
        "    image_path = images_dir + '/' + im\n",
        "    image = Image.open(image_path)\n",
        "    image = image.resize((64, 64))\n",
        "    image = np.array(image)\n",
        "    X_train.append(image)\n",
        "    filtered_df = skin_csv[skin_csv['image_id'] == im.split('.')[0]]\n",
        "    y_train.append(filtered_df['dx'].values[0])\n",
        "\n",
        "len(y_train)"
      ]
    },
    {
      "cell_type": "code",
      "execution_count": null,
      "metadata": {
        "id": "rbqTcYs6vxVp"
      },
      "outputs": [],
      "source": [
        "i = 0\n",
        "for x in y_train:\n",
        "    if x == 'akiec':\n",
        "        y_train[i] = 0\n",
        "    elif x == 'bcc':\n",
        "        y_train[i] = 1\n",
        "    elif x == 'bkl':\n",
        "        y_train[i] = 2\n",
        "    elif x == 'df':\n",
        "        y_train[i] = 3\n",
        "    elif x == 'mel':\n",
        "        y_train[i] = 4\n",
        "    elif x == 'nv':\n",
        "        y_train[i] = 5\n",
        "    elif x == 'vasc':\n",
        "        y_train[i] = 6\n",
        "    elif x == 'scc':\n",
        "        y_train[i] = 7\n",
        "    i +=1"
      ]
    },
    {
      "cell_type": "code",
      "execution_count": null,
      "metadata": {
        "colab": {
          "base_uri": "https://localhost:8080/"
        },
        "id": "IAAJ-4FKrn6S",
        "outputId": "8dcb538b-267d-42f1-b386-7a856115c3b1"
      },
      "outputs": [
        {
          "output_type": "stream",
          "name": "stdout",
          "text": [
            "Counter({5: 6705, 4: 1113, 2: 1099, 1: 514, 0: 327, 6: 142, 3: 115})\n"
          ]
        }
      ],
      "source": [
        "from collections import Counter\n",
        "print(Counter(y_train))"
      ]
    },
    {
      "cell_type": "code",
      "execution_count": null,
      "metadata": {
        "colab": {
          "base_uri": "https://localhost:8080/"
        },
        "id": "sOkDawgrRypV",
        "outputId": "9beebcfb-bd35-4d37-87e6-e885d716b45d"
      },
      "outputs": [
        {
          "output_type": "stream",
          "name": "stdout",
          "text": [
            "(10015, 64, 64, 3) (10015,)\n"
          ]
        }
      ],
      "source": [
        "from sklearn.utils import shuffle\n",
        "X_train, y_train = shuffle(X_train, y_train, random_state=4761)\n",
        "\n",
        "X_train = np.array(X_train)\n",
        "y_train = np.array(y_train)\n",
        "\n",
        "print(X_train.shape,\n",
        "      y_train.shape,)"
      ]
    },
    {
      "cell_type": "code",
      "execution_count": null,
      "metadata": {
        "id": "GjENlxyRu9ZU"
      },
      "outputs": [],
      "source": [
        "# Split X_train and y_train into testing and validation sets\n",
        "from sklearn.model_selection import train_test_split\n",
        "\n",
        "X_train, X_test, y_train, y_test = train_test_split(X_train, y_train, test_size=0.3, random_state=42)\n",
        "X_test, X_val, y_test, y_val = train_test_split(X_train, y_train, test_size=0.5, random_state=12)"
      ]
    },
    {
      "cell_type": "markdown",
      "metadata": {
        "id": "TAbcAsxaplFj"
      },
      "source": [
        "# Preprocessing"
      ]
    },
    {
      "cell_type": "code",
      "execution_count": 46,
      "metadata": {
        "id": "owwO4dhCzQR9",
        "colab": {
          "base_uri": "https://localhost:8080/"
        },
        "outputId": "76c08749-2bb9-456a-cb3c-db6dbc2da4be"
      },
      "outputs": [
        {
          "metadata": {
            "tags": null
          },
          "name": "stdout",
          "output_type": "stream",
          "text": [
            "(7010, 7010)\n"
          ]
        }
      ],
      "source": [
        "from re import X\n",
        "from sklearn.decomposition import PCA\n",
        "\n",
        "X_flattened = X_train.reshape(X_train.shape[0], -1)\n",
        "X_test_flattened = X_test.reshape(X_test.shape[0], -1)\n",
        "X_val_flattened = X_val.reshape(X_val.shape[0], -1)\n",
        "\n",
        "# Step 2: Apply PCA whitening\n",
        "pca = PCA(whiten=True)\n",
        "X_whitened = pca.fit_transform(X_flattened)\n",
        "X_test_whitened = pca.transform(X_test_flattened)\n",
        "X_val_whitened = pca.transform(X_val_flattened)\n",
        "\n",
        "X_whitened_reshaped = X_whitened.reshape(X_train.shape[0], pca.n_components_)\n",
        "X_test_whitened_reshaped = X_test_whitened.reshape(X_test.shape[0], pca.n_components_)\n",
        "X_val_whitened_reshaped = X_val_whitened.reshape(X_val.shape[0], pca.n_components_)\n",
        "\n",
        "print(X_whitened_reshaped.shape)\n"
      ]
    },
    {
      "cell_type": "markdown",
      "metadata": {
        "id": "zw0QRL73zOTL"
      },
      "source": [
        "# Training"
      ]
    },
    {
      "cell_type": "code",
      "execution_count": 47,
      "metadata": {
        "id": "9dXz_72CdI5T",
        "colab": {
          "base_uri": "https://localhost:8080/",
          "height": 80
        },
        "outputId": "7dbaaa1c-b81c-4d50-f2ff-f4ea613dc166"
      },
      "outputs": [
        {
          "data": {
            "text/html": [
              "<style>#sk-container-id-2 {\n",
              "  /* Definition of color scheme common for light and dark mode */\n",
              "  --sklearn-color-text: black;\n",
              "  --sklearn-color-line: gray;\n",
              "  /* Definition of color scheme for unfitted estimators */\n",
              "  --sklearn-color-unfitted-level-0: #fff5e6;\n",
              "  --sklearn-color-unfitted-level-1: #f6e4d2;\n",
              "  --sklearn-color-unfitted-level-2: #ffe0b3;\n",
              "  --sklearn-color-unfitted-level-3: chocolate;\n",
              "  /* Definition of color scheme for fitted estimators */\n",
              "  --sklearn-color-fitted-level-0: #f0f8ff;\n",
              "  --sklearn-color-fitted-level-1: #d4ebff;\n",
              "  --sklearn-color-fitted-level-2: #b3dbfd;\n",
              "  --sklearn-color-fitted-level-3: cornflowerblue;\n",
              "\n",
              "  /* Specific color for light theme */\n",
              "  --sklearn-color-text-on-default-background: var(--sg-text-color, var(--theme-code-foreground, var(--jp-content-font-color1, black)));\n",
              "  --sklearn-color-background: var(--sg-background-color, var(--theme-background, var(--jp-layout-color0, white)));\n",
              "  --sklearn-color-border-box: var(--sg-text-color, var(--theme-code-foreground, var(--jp-content-font-color1, black)));\n",
              "  --sklearn-color-icon: #696969;\n",
              "\n",
              "  @media (prefers-color-scheme: dark) {\n",
              "    /* Redefinition of color scheme for dark theme */\n",
              "    --sklearn-color-text-on-default-background: var(--sg-text-color, var(--theme-code-foreground, var(--jp-content-font-color1, white)));\n",
              "    --sklearn-color-background: var(--sg-background-color, var(--theme-background, var(--jp-layout-color0, #111)));\n",
              "    --sklearn-color-border-box: var(--sg-text-color, var(--theme-code-foreground, var(--jp-content-font-color1, white)));\n",
              "    --sklearn-color-icon: #878787;\n",
              "  }\n",
              "}\n",
              "\n",
              "#sk-container-id-2 {\n",
              "  color: var(--sklearn-color-text);\n",
              "}\n",
              "\n",
              "#sk-container-id-2 pre {\n",
              "  padding: 0;\n",
              "}\n",
              "\n",
              "#sk-container-id-2 input.sk-hidden--visually {\n",
              "  border: 0;\n",
              "  clip: rect(1px 1px 1px 1px);\n",
              "  clip: rect(1px, 1px, 1px, 1px);\n",
              "  height: 1px;\n",
              "  margin: -1px;\n",
              "  overflow: hidden;\n",
              "  padding: 0;\n",
              "  position: absolute;\n",
              "  width: 1px;\n",
              "}\n",
              "\n",
              "#sk-container-id-2 div.sk-dashed-wrapped {\n",
              "  border: 1px dashed var(--sklearn-color-line);\n",
              "  margin: 0 0.4em 0.5em 0.4em;\n",
              "  box-sizing: border-box;\n",
              "  padding-bottom: 0.4em;\n",
              "  background-color: var(--sklearn-color-background);\n",
              "}\n",
              "\n",
              "#sk-container-id-2 div.sk-container {\n",
              "  /* jupyter's `normalize.less` sets `[hidden] { display: none; }`\n",
              "     but bootstrap.min.css set `[hidden] { display: none !important; }`\n",
              "     so we also need the `!important` here to be able to override the\n",
              "     default hidden behavior on the sphinx rendered scikit-learn.org.\n",
              "     See: https://github.com/scikit-learn/scikit-learn/issues/21755 */\n",
              "  display: inline-block !important;\n",
              "  position: relative;\n",
              "}\n",
              "\n",
              "#sk-container-id-2 div.sk-text-repr-fallback {\n",
              "  display: none;\n",
              "}\n",
              "\n",
              "div.sk-parallel-item,\n",
              "div.sk-serial,\n",
              "div.sk-item {\n",
              "  /* draw centered vertical line to link estimators */\n",
              "  background-image: linear-gradient(var(--sklearn-color-text-on-default-background), var(--sklearn-color-text-on-default-background));\n",
              "  background-size: 2px 100%;\n",
              "  background-repeat: no-repeat;\n",
              "  background-position: center center;\n",
              "}\n",
              "\n",
              "/* Parallel-specific style estimator block */\n",
              "\n",
              "#sk-container-id-2 div.sk-parallel-item::after {\n",
              "  content: \"\";\n",
              "  width: 100%;\n",
              "  border-bottom: 2px solid var(--sklearn-color-text-on-default-background);\n",
              "  flex-grow: 1;\n",
              "}\n",
              "\n",
              "#sk-container-id-2 div.sk-parallel {\n",
              "  display: flex;\n",
              "  align-items: stretch;\n",
              "  justify-content: center;\n",
              "  background-color: var(--sklearn-color-background);\n",
              "  position: relative;\n",
              "}\n",
              "\n",
              "#sk-container-id-2 div.sk-parallel-item {\n",
              "  display: flex;\n",
              "  flex-direction: column;\n",
              "}\n",
              "\n",
              "#sk-container-id-2 div.sk-parallel-item:first-child::after {\n",
              "  align-self: flex-end;\n",
              "  width: 50%;\n",
              "}\n",
              "\n",
              "#sk-container-id-2 div.sk-parallel-item:last-child::after {\n",
              "  align-self: flex-start;\n",
              "  width: 50%;\n",
              "}\n",
              "\n",
              "#sk-container-id-2 div.sk-parallel-item:only-child::after {\n",
              "  width: 0;\n",
              "}\n",
              "\n",
              "/* Serial-specific style estimator block */\n",
              "\n",
              "#sk-container-id-2 div.sk-serial {\n",
              "  display: flex;\n",
              "  flex-direction: column;\n",
              "  align-items: center;\n",
              "  background-color: var(--sklearn-color-background);\n",
              "  padding-right: 1em;\n",
              "  padding-left: 1em;\n",
              "}\n",
              "\n",
              "\n",
              "/* Toggleable style: style used for estimator/Pipeline/ColumnTransformer box that is\n",
              "clickable and can be expanded/collapsed.\n",
              "- Pipeline and ColumnTransformer use this feature and define the default style\n",
              "- Estimators will overwrite some part of the style using the `sk-estimator` class\n",
              "*/\n",
              "\n",
              "/* Pipeline and ColumnTransformer style (default) */\n",
              "\n",
              "#sk-container-id-2 div.sk-toggleable {\n",
              "  /* Default theme specific background. It is overwritten whether we have a\n",
              "  specific estimator or a Pipeline/ColumnTransformer */\n",
              "  background-color: var(--sklearn-color-background);\n",
              "}\n",
              "\n",
              "/* Toggleable label */\n",
              "#sk-container-id-2 label.sk-toggleable__label {\n",
              "  cursor: pointer;\n",
              "  display: block;\n",
              "  width: 100%;\n",
              "  margin-bottom: 0;\n",
              "  padding: 0.5em;\n",
              "  box-sizing: border-box;\n",
              "  text-align: center;\n",
              "}\n",
              "\n",
              "#sk-container-id-2 label.sk-toggleable__label-arrow:before {\n",
              "  /* Arrow on the left of the label */\n",
              "  content: \"▸\";\n",
              "  float: left;\n",
              "  margin-right: 0.25em;\n",
              "  color: var(--sklearn-color-icon);\n",
              "}\n",
              "\n",
              "#sk-container-id-2 label.sk-toggleable__label-arrow:hover:before {\n",
              "  color: var(--sklearn-color-text);\n",
              "}\n",
              "\n",
              "/* Toggleable content - dropdown */\n",
              "\n",
              "#sk-container-id-2 div.sk-toggleable__content {\n",
              "  max-height: 0;\n",
              "  max-width: 0;\n",
              "  overflow: hidden;\n",
              "  text-align: left;\n",
              "  /* unfitted */\n",
              "  background-color: var(--sklearn-color-unfitted-level-0);\n",
              "}\n",
              "\n",
              "#sk-container-id-2 div.sk-toggleable__content.fitted {\n",
              "  /* fitted */\n",
              "  background-color: var(--sklearn-color-fitted-level-0);\n",
              "}\n",
              "\n",
              "#sk-container-id-2 div.sk-toggleable__content pre {\n",
              "  margin: 0.2em;\n",
              "  border-radius: 0.25em;\n",
              "  color: var(--sklearn-color-text);\n",
              "  /* unfitted */\n",
              "  background-color: var(--sklearn-color-unfitted-level-0);\n",
              "}\n",
              "\n",
              "#sk-container-id-2 div.sk-toggleable__content.fitted pre {\n",
              "  /* unfitted */\n",
              "  background-color: var(--sklearn-color-fitted-level-0);\n",
              "}\n",
              "\n",
              "#sk-container-id-2 input.sk-toggleable__control:checked~div.sk-toggleable__content {\n",
              "  /* Expand drop-down */\n",
              "  max-height: 200px;\n",
              "  max-width: 100%;\n",
              "  overflow: auto;\n",
              "}\n",
              "\n",
              "#sk-container-id-2 input.sk-toggleable__control:checked~label.sk-toggleable__label-arrow:before {\n",
              "  content: \"▾\";\n",
              "}\n",
              "\n",
              "/* Pipeline/ColumnTransformer-specific style */\n",
              "\n",
              "#sk-container-id-2 div.sk-label input.sk-toggleable__control:checked~label.sk-toggleable__label {\n",
              "  color: var(--sklearn-color-text);\n",
              "  background-color: var(--sklearn-color-unfitted-level-2);\n",
              "}\n",
              "\n",
              "#sk-container-id-2 div.sk-label.fitted input.sk-toggleable__control:checked~label.sk-toggleable__label {\n",
              "  background-color: var(--sklearn-color-fitted-level-2);\n",
              "}\n",
              "\n",
              "/* Estimator-specific style */\n",
              "\n",
              "/* Colorize estimator box */\n",
              "#sk-container-id-2 div.sk-estimator input.sk-toggleable__control:checked~label.sk-toggleable__label {\n",
              "  /* unfitted */\n",
              "  background-color: var(--sklearn-color-unfitted-level-2);\n",
              "}\n",
              "\n",
              "#sk-container-id-2 div.sk-estimator.fitted input.sk-toggleable__control:checked~label.sk-toggleable__label {\n",
              "  /* fitted */\n",
              "  background-color: var(--sklearn-color-fitted-level-2);\n",
              "}\n",
              "\n",
              "#sk-container-id-2 div.sk-label label.sk-toggleable__label,\n",
              "#sk-container-id-2 div.sk-label label {\n",
              "  /* The background is the default theme color */\n",
              "  color: var(--sklearn-color-text-on-default-background);\n",
              "}\n",
              "\n",
              "/* On hover, darken the color of the background */\n",
              "#sk-container-id-2 div.sk-label:hover label.sk-toggleable__label {\n",
              "  color: var(--sklearn-color-text);\n",
              "  background-color: var(--sklearn-color-unfitted-level-2);\n",
              "}\n",
              "\n",
              "/* Label box, darken color on hover, fitted */\n",
              "#sk-container-id-2 div.sk-label.fitted:hover label.sk-toggleable__label.fitted {\n",
              "  color: var(--sklearn-color-text);\n",
              "  background-color: var(--sklearn-color-fitted-level-2);\n",
              "}\n",
              "\n",
              "/* Estimator label */\n",
              "\n",
              "#sk-container-id-2 div.sk-label label {\n",
              "  font-family: monospace;\n",
              "  font-weight: bold;\n",
              "  display: inline-block;\n",
              "  line-height: 1.2em;\n",
              "}\n",
              "\n",
              "#sk-container-id-2 div.sk-label-container {\n",
              "  text-align: center;\n",
              "}\n",
              "\n",
              "/* Estimator-specific */\n",
              "#sk-container-id-2 div.sk-estimator {\n",
              "  font-family: monospace;\n",
              "  border: 1px dotted var(--sklearn-color-border-box);\n",
              "  border-radius: 0.25em;\n",
              "  box-sizing: border-box;\n",
              "  margin-bottom: 0.5em;\n",
              "  /* unfitted */\n",
              "  background-color: var(--sklearn-color-unfitted-level-0);\n",
              "}\n",
              "\n",
              "#sk-container-id-2 div.sk-estimator.fitted {\n",
              "  /* fitted */\n",
              "  background-color: var(--sklearn-color-fitted-level-0);\n",
              "}\n",
              "\n",
              "/* on hover */\n",
              "#sk-container-id-2 div.sk-estimator:hover {\n",
              "  /* unfitted */\n",
              "  background-color: var(--sklearn-color-unfitted-level-2);\n",
              "}\n",
              "\n",
              "#sk-container-id-2 div.sk-estimator.fitted:hover {\n",
              "  /* fitted */\n",
              "  background-color: var(--sklearn-color-fitted-level-2);\n",
              "}\n",
              "\n",
              "/* Specification for estimator info (e.g. \"i\" and \"?\") */\n",
              "\n",
              "/* Common style for \"i\" and \"?\" */\n",
              "\n",
              ".sk-estimator-doc-link,\n",
              "a:link.sk-estimator-doc-link,\n",
              "a:visited.sk-estimator-doc-link {\n",
              "  float: right;\n",
              "  font-size: smaller;\n",
              "  line-height: 1em;\n",
              "  font-family: monospace;\n",
              "  background-color: var(--sklearn-color-background);\n",
              "  border-radius: 1em;\n",
              "  height: 1em;\n",
              "  width: 1em;\n",
              "  text-decoration: none !important;\n",
              "  margin-left: 1ex;\n",
              "  /* unfitted */\n",
              "  border: var(--sklearn-color-unfitted-level-1) 1pt solid;\n",
              "  color: var(--sklearn-color-unfitted-level-1);\n",
              "}\n",
              "\n",
              ".sk-estimator-doc-link.fitted,\n",
              "a:link.sk-estimator-doc-link.fitted,\n",
              "a:visited.sk-estimator-doc-link.fitted {\n",
              "  /* fitted */\n",
              "  border: var(--sklearn-color-fitted-level-1) 1pt solid;\n",
              "  color: var(--sklearn-color-fitted-level-1);\n",
              "}\n",
              "\n",
              "/* On hover */\n",
              "div.sk-estimator:hover .sk-estimator-doc-link:hover,\n",
              ".sk-estimator-doc-link:hover,\n",
              "div.sk-label-container:hover .sk-estimator-doc-link:hover,\n",
              ".sk-estimator-doc-link:hover {\n",
              "  /* unfitted */\n",
              "  background-color: var(--sklearn-color-unfitted-level-3);\n",
              "  color: var(--sklearn-color-background);\n",
              "  text-decoration: none;\n",
              "}\n",
              "\n",
              "div.sk-estimator.fitted:hover .sk-estimator-doc-link.fitted:hover,\n",
              ".sk-estimator-doc-link.fitted:hover,\n",
              "div.sk-label-container:hover .sk-estimator-doc-link.fitted:hover,\n",
              ".sk-estimator-doc-link.fitted:hover {\n",
              "  /* fitted */\n",
              "  background-color: var(--sklearn-color-fitted-level-3);\n",
              "  color: var(--sklearn-color-background);\n",
              "  text-decoration: none;\n",
              "}\n",
              "\n",
              "/* Span, style for the box shown on hovering the info icon */\n",
              ".sk-estimator-doc-link span {\n",
              "  display: none;\n",
              "  z-index: 9999;\n",
              "  position: relative;\n",
              "  font-weight: normal;\n",
              "  right: .2ex;\n",
              "  padding: .5ex;\n",
              "  margin: .5ex;\n",
              "  width: min-content;\n",
              "  min-width: 20ex;\n",
              "  max-width: 50ex;\n",
              "  color: var(--sklearn-color-text);\n",
              "  box-shadow: 2pt 2pt 4pt #999;\n",
              "  /* unfitted */\n",
              "  background: var(--sklearn-color-unfitted-level-0);\n",
              "  border: .5pt solid var(--sklearn-color-unfitted-level-3);\n",
              "}\n",
              "\n",
              ".sk-estimator-doc-link.fitted span {\n",
              "  /* fitted */\n",
              "  background: var(--sklearn-color-fitted-level-0);\n",
              "  border: var(--sklearn-color-fitted-level-3);\n",
              "}\n",
              "\n",
              ".sk-estimator-doc-link:hover span {\n",
              "  display: block;\n",
              "}\n",
              "\n",
              "/* \"?\"-specific style due to the `<a>` HTML tag */\n",
              "\n",
              "#sk-container-id-2 a.estimator_doc_link {\n",
              "  float: right;\n",
              "  font-size: 1rem;\n",
              "  line-height: 1em;\n",
              "  font-family: monospace;\n",
              "  background-color: var(--sklearn-color-background);\n",
              "  border-radius: 1rem;\n",
              "  height: 1rem;\n",
              "  width: 1rem;\n",
              "  text-decoration: none;\n",
              "  /* unfitted */\n",
              "  color: var(--sklearn-color-unfitted-level-1);\n",
              "  border: var(--sklearn-color-unfitted-level-1) 1pt solid;\n",
              "}\n",
              "\n",
              "#sk-container-id-2 a.estimator_doc_link.fitted {\n",
              "  /* fitted */\n",
              "  border: var(--sklearn-color-fitted-level-1) 1pt solid;\n",
              "  color: var(--sklearn-color-fitted-level-1);\n",
              "}\n",
              "\n",
              "/* On hover */\n",
              "#sk-container-id-2 a.estimator_doc_link:hover {\n",
              "  /* unfitted */\n",
              "  background-color: var(--sklearn-color-unfitted-level-3);\n",
              "  color: var(--sklearn-color-background);\n",
              "  text-decoration: none;\n",
              "}\n",
              "\n",
              "#sk-container-id-2 a.estimator_doc_link.fitted:hover {\n",
              "  /* fitted */\n",
              "  background-color: var(--sklearn-color-fitted-level-3);\n",
              "}\n",
              "</style><div id=\"sk-container-id-2\" class=\"sk-top-container\"><div class=\"sk-text-repr-fallback\"><pre>SGDClassifier(loss=&#x27;modified_huber&#x27;, random_state=42)</pre><b>In a Jupyter environment, please rerun this cell to show the HTML representation or trust the notebook. <br />On GitHub, the HTML representation is unable to render, please try loading this page with nbviewer.org.</b></div><div class=\"sk-container\" hidden><div class=\"sk-item\"><div class=\"sk-estimator fitted sk-toggleable\"><input class=\"sk-toggleable__control sk-hidden--visually\" id=\"sk-estimator-id-2\" type=\"checkbox\" checked><label for=\"sk-estimator-id-2\" class=\"sk-toggleable__label fitted sk-toggleable__label-arrow fitted\">&nbsp;&nbsp;SGDClassifier<a class=\"sk-estimator-doc-link fitted\" rel=\"noreferrer\" target=\"_blank\" href=\"https://scikit-learn.org/1.5/modules/generated/sklearn.linear_model.SGDClassifier.html\">?<span>Documentation for SGDClassifier</span></a><span class=\"sk-estimator-doc-link fitted\">i<span>Fitted</span></span></label><div class=\"sk-toggleable__content fitted\"><pre>SGDClassifier(loss=&#x27;modified_huber&#x27;, random_state=42)</pre></div> </div></div></div></div>"
            ],
            "text/plain": [
              "SGDClassifier(loss='modified_huber', random_state=42)"
            ]
          },
          "execution_count": 47,
          "metadata": {},
          "output_type": "execute_result"
        }
      ],
      "source": [
        "from sklearn.linear_model import SGDClassifier\n",
        "from sklearn.metrics import classification_report\n",
        "\n",
        "sgd_clf = SGDClassifier(loss='modified_huber', max_iter=1000, random_state=42)\n",
        "sgd_clf.fit(X_whitened_reshaped, y_train)"
      ]
    },
    {
      "cell_type": "code",
      "source": [
        "import pickle\n",
        "\n",
        "with open('sgd_clf.pkl', 'wb') as file:\n",
        "    pickle.dump(sgd_clf, file)"
      ],
      "metadata": {
        "id": "EFV0Ln4Nj6-m"
      },
      "execution_count": 86,
      "outputs": []
    },
    {
      "cell_type": "code",
      "execution_count": 48,
      "metadata": {
        "id": "mF1JZJKWdZ_o",
        "colab": {
          "base_uri": "https://localhost:8080/"
        },
        "outputId": "1d4d2aa3-664e-467c-ebb8-9ecf2b2e2e64"
      },
      "outputs": [
        {
          "metadata": {
            "tags": null
          },
          "name": "stdout",
          "output_type": "stream",
          "text": [
            "              precision    recall  f1-score   support\n",
            "\n",
            "           0       1.00      1.00      1.00       111\n",
            "           1       1.00      1.00      1.00       188\n",
            "           2       0.38      0.99      0.55       382\n",
            "           3       0.30      1.00      0.46        38\n",
            "           4       1.00      0.99      0.99       386\n",
            "           5       1.00      0.71      0.83      2355\n",
            "           6       1.00      1.00      1.00        45\n",
            "\n",
            "    accuracy                           0.80      3505\n",
            "   macro avg       0.81      0.96      0.83      3505\n",
            "weighted avg       0.92      0.80      0.83      3505\n",
            "\n",
            "              precision    recall  f1-score   support\n",
            "\n",
            "           0       1.00      1.00      1.00       117\n",
            "           1       1.00      0.99      1.00       186\n",
            "           2       0.40      0.99      0.57       410\n",
            "           3       0.36      1.00      0.53        42\n",
            "           4       1.00      0.99      0.99       351\n",
            "           5       1.00      0.71      0.83      2354\n",
            "           6       1.00      1.00      1.00        45\n",
            "\n",
            "    accuracy                           0.80      3505\n",
            "   macro avg       0.82      0.95      0.84      3505\n",
            "weighted avg       0.92      0.80      0.83      3505\n",
            "\n"
          ]
        }
      ],
      "source": [
        "y_pred = sgd_clf.predict(X_test_whitened_reshaped)\n",
        "y_pred_val = sgd_clf.predict(X_val_whitened_reshaped)\n",
        "\n",
        "print(classification_report(y_test, y_pred))\n",
        "print(classification_report(y_val, y_pred_val))"
      ]
    },
    {
      "cell_type": "code",
      "execution_count": 80,
      "metadata": {
        "id": "dL-ewVOVhtM_",
        "colab": {
          "base_uri": "https://localhost:8080/"
        },
        "outputId": "72a45b51-84ef-4831-fd6f-48ec5d427f67"
      },
      "outputs": [
        {
          "output_type": "stream",
          "name": "stdout",
          "text": [
            "[[ 117    0    0    0    0    0    0]\n",
            " [   0  185    1    0    0    0    0]\n",
            " [   0    0  407    3    0    0    0]\n",
            " [   0    0    0   42    0    0    0]\n",
            " [   0    0    5    0  346    0    0]\n",
            " [   0    0  611   73    0 1670    0]\n",
            " [   0    0    0    0    0    0   45]]\n",
            "              precision    recall  f1-score   support\n",
            "\n",
            "           0       1.00      1.00      1.00       117\n",
            "           1       1.00      0.99      1.00       186\n",
            "           2       0.40      0.99      0.57       410\n",
            "           3       0.36      1.00      0.53        42\n",
            "           4       1.00      0.99      0.99       351\n",
            "           5       1.00      0.71      0.83      2354\n",
            "           6       1.00      1.00      1.00        45\n",
            "\n",
            "    accuracy                           0.80      3505\n",
            "   macro avg       0.82      0.95      0.84      3505\n",
            "weighted avg       0.92      0.80      0.83      3505\n",
            "\n"
          ]
        }
      ],
      "source": [
        "from sklearn.metrics import confusion_matrix\n",
        "print(confusion_matrix(y_val, y_pred_val))\n",
        "print(classification_report(y_val, y_pred_val))"
      ]
    },
    {
      "cell_type": "code",
      "execution_count": 50,
      "metadata": {
        "id": "waXGGv36iT22",
        "colab": {
          "base_uri": "https://localhost:8080/"
        },
        "outputId": "cfdfc929-e748-43cd-df50-b80c851f3b22"
      },
      "outputs": [
        {
          "metadata": {
            "tags": null
          },
          "name": "stdout",
          "output_type": "stream",
          "text": [
            "akiec 0 bcc 1 bkl 2 df 3 mel 4 nv 5 vasc 6 scc 7\n"
          ]
        }
      ],
      "source": [
        "print('akiec 0', 'bcc 1', 'bkl 2', 'df 3', 'mel 4', 'nv 5', 'vasc 6', 'scc 7')"
      ]
    },
    {
      "cell_type": "markdown",
      "metadata": {
        "id": "RdBJ5A_bKpf3"
      },
      "source": [
        "# CONVNET"
      ]
    },
    {
      "cell_type": "code",
      "execution_count": 72,
      "metadata": {
        "id": "lE2lLQkZSEiD",
        "colab": {
          "base_uri": "https://localhost:8080/"
        },
        "outputId": "f10765e9-ad9e-420f-a70c-b83f61ae67c4"
      },
      "outputs": [
        {
          "output_type": "stream",
          "name": "stderr",
          "text": [
            "/usr/local/lib/python3.10/dist-packages/keras/src/layers/convolutional/base_conv.py:107: UserWarning: Do not pass an `input_shape`/`input_dim` argument to a layer. When using Sequential models, prefer using an `Input(shape)` object as the first layer in the model instead.\n",
            "  super().__init__(activity_regularizer=activity_regularizer, **kwargs)\n"
          ]
        }
      ],
      "source": [
        "from tensorflow.keras.preprocessing.image import ImageDataGenerator\n",
        "from tensorflow.keras.models import Sequential\n",
        "from tensorflow.keras.layers import Conv2D, MaxPooling2D, Flatten, Dense\n",
        "\n",
        "# Data Augmentation\n",
        "datagen = ImageDataGenerator(\n",
        "    rotation_range=20,         # Randomly rotate images by up to 20 degrees\n",
        "    width_shift_range=0.2,     # Randomly shift images horizontally\n",
        "    height_shift_range=0.2,    # Randomly shift images vertically\n",
        "    shear_range=0.2,           # Apply shear transformations\n",
        "    zoom_range=0.2,            # Randomly zoom in/out on images\n",
        "    horizontal_flip=True,      # Randomly flip images horizontally\n",
        "    fill_mode='nearest'        # Fill empty pixels after transformations\n",
        ")\n",
        "\n",
        "# CNN Model\n",
        "model = Sequential([\n",
        "    Conv2D(32, (3, 3), activation='relu', input_shape=(64, 64, 3)),\n",
        "    MaxPooling2D((2, 2)),\n",
        "    Conv2D(64, (3, 3), activation='relu'),\n",
        "    MaxPooling2D((2, 2)),\n",
        "    Flatten(),\n",
        "    Dense(128, activation='relu'),\n",
        "    Dense(10, activation='softmax')  # Assuming 10 classes for classification\n",
        "])\n",
        "\n",
        "\n",
        "# CNN Model\n",
        "model = Sequential([\n",
        "    Conv2D(32, (3, 3), activation='relu', input_shape=(64, 64, 3)),\n",
        "    MaxPooling2D((2, 2)),\n",
        "    Conv2D(64, (3, 3), activation='relu'),\n",
        "    MaxPooling2D((2, 2)),\n",
        "    Flatten(),\n",
        "    Dense(128, activation='relu'),\n",
        "    Dense(10, activation='softmax')  # Assuming 10 classes for classification\n",
        "])\n",
        "\n",
        "model.compile(optimizer='adam',\n",
        "              loss='sparse_categorical_crossentropy',  # Assuming labels are integer encoded\n",
        "              metrics=['accuracy'])\n"
      ]
    },
    {
      "cell_type": "code",
      "source": [
        "# Fit the model using the augmented data generator\n",
        "# Assuming X_train and y_train are your training images and labels\n",
        "from tensorflow.keras.callbacks import ReduceLROnPlateau\n",
        "\n",
        "datagen.fit(X_train)  # Fit the data generator to your training images\n",
        "\n",
        "lr_scheduler = ReduceLROnPlateau(monitor='val_loss', factor=0.1, patience=3)\n",
        "model.fit(X_train, y_train, validation_data=(X_test, y_test), epochs=50, callbacks=[lr_scheduler], batch_sizes = 32)"
      ],
      "metadata": {
        "colab": {
          "base_uri": "https://localhost:8080/"
        },
        "id": "J8QxouzBVosc",
        "outputId": "e0d9482b-a8a4-4ba7-9332-816567a86aa7"
      },
      "execution_count": 73,
      "outputs": [
        {
          "output_type": "stream",
          "name": "stdout",
          "text": [
            "Epoch 1/50\n",
            "\u001b[1m220/220\u001b[0m \u001b[32m━━━━━━━━━━━━━━━━━━━━\u001b[0m\u001b[37m\u001b[0m \u001b[1m12s\u001b[0m 50ms/step - accuracy: 0.6234 - loss: 10.8379 - val_accuracy: 0.6910 - val_loss: 0.9436 - learning_rate: 0.0010\n",
            "Epoch 2/50\n",
            "\u001b[1m220/220\u001b[0m \u001b[32m━━━━━━━━━━━━━━━━━━━━\u001b[0m\u001b[37m\u001b[0m \u001b[1m10s\u001b[0m 46ms/step - accuracy: 0.6693 - loss: 1.0156 - val_accuracy: 0.6767 - val_loss: 1.3525 - learning_rate: 0.0010\n",
            "Epoch 3/50\n",
            "\u001b[1m220/220\u001b[0m \u001b[32m━━━━━━━━━━━━━━━━━━━━\u001b[0m\u001b[37m\u001b[0m \u001b[1m10s\u001b[0m 46ms/step - accuracy: 0.6696 - loss: 1.0446 - val_accuracy: 0.6822 - val_loss: 0.9000 - learning_rate: 0.0010\n",
            "Epoch 4/50\n",
            "\u001b[1m220/220\u001b[0m \u001b[32m━━━━━━━━━━━━━━━━━━━━\u001b[0m\u001b[37m\u001b[0m \u001b[1m10s\u001b[0m 45ms/step - accuracy: 0.6910 - loss: 0.8934 - val_accuracy: 0.6956 - val_loss: 0.8349 - learning_rate: 0.0010\n",
            "Epoch 5/50\n",
            "\u001b[1m220/220\u001b[0m \u001b[32m━━━━━━━━━━━━━━━━━━━━\u001b[0m\u001b[37m\u001b[0m \u001b[1m10s\u001b[0m 46ms/step - accuracy: 0.6886 - loss: 0.8671 - val_accuracy: 0.7121 - val_loss: 0.8007 - learning_rate: 0.0010\n",
            "Epoch 6/50\n",
            "\u001b[1m220/220\u001b[0m \u001b[32m━━━━━━━━━━━━━━━━━━━━\u001b[0m\u001b[37m\u001b[0m \u001b[1m10s\u001b[0m 45ms/step - accuracy: 0.7146 - loss: 0.8262 - val_accuracy: 0.7235 - val_loss: 0.7689 - learning_rate: 0.0010\n",
            "Epoch 7/50\n",
            "\u001b[1m220/220\u001b[0m \u001b[32m━━━━━━━━━━━━━━━━━━━━\u001b[0m\u001b[37m\u001b[0m \u001b[1m10s\u001b[0m 47ms/step - accuracy: 0.7142 - loss: 0.8050 - val_accuracy: 0.7358 - val_loss: 0.7205 - learning_rate: 0.0010\n",
            "Epoch 8/50\n",
            "\u001b[1m220/220\u001b[0m \u001b[32m━━━━━━━━━━━━━━━━━━━━\u001b[0m\u001b[37m\u001b[0m \u001b[1m10s\u001b[0m 46ms/step - accuracy: 0.7267 - loss: 0.7477 - val_accuracy: 0.7455 - val_loss: 0.7023 - learning_rate: 0.0010\n",
            "Epoch 9/50\n",
            "\u001b[1m220/220\u001b[0m \u001b[32m━━━━━━━━━━━━━━━━━━━━\u001b[0m\u001b[37m\u001b[0m \u001b[1m12s\u001b[0m 54ms/step - accuracy: 0.7360 - loss: 0.7233 - val_accuracy: 0.7706 - val_loss: 0.6148 - learning_rate: 0.0010\n",
            "Epoch 10/50\n",
            "\u001b[1m220/220\u001b[0m \u001b[32m━━━━━━━━━━━━━━━━━━━━\u001b[0m\u001b[37m\u001b[0m \u001b[1m13s\u001b[0m 58ms/step - accuracy: 0.7597 - loss: 0.6764 - val_accuracy: 0.7581 - val_loss: 0.6968 - learning_rate: 0.0010\n",
            "Epoch 11/50\n",
            "\u001b[1m220/220\u001b[0m \u001b[32m━━━━━━━━━━━━━━━━━━━━\u001b[0m\u001b[37m\u001b[0m \u001b[1m11s\u001b[0m 49ms/step - accuracy: 0.7531 - loss: 0.7048 - val_accuracy: 0.7854 - val_loss: 0.5795 - learning_rate: 0.0010\n",
            "Epoch 12/50\n",
            "\u001b[1m220/220\u001b[0m \u001b[32m━━━━━━━━━━━━━━━━━━━━\u001b[0m\u001b[37m\u001b[0m \u001b[1m11s\u001b[0m 48ms/step - accuracy: 0.7709 - loss: 0.6517 - val_accuracy: 0.7498 - val_loss: 0.7076 - learning_rate: 0.0010\n",
            "Epoch 13/50\n",
            "\u001b[1m220/220\u001b[0m \u001b[32m━━━━━━━━━━━━━━━━━━━━\u001b[0m\u001b[37m\u001b[0m \u001b[1m10s\u001b[0m 45ms/step - accuracy: 0.7608 - loss: 0.6483 - val_accuracy: 0.7909 - val_loss: 0.5616 - learning_rate: 0.0010\n",
            "Epoch 14/50\n",
            "\u001b[1m220/220\u001b[0m \u001b[32m━━━━━━━━━━━━━━━━━━━━\u001b[0m\u001b[37m\u001b[0m \u001b[1m10s\u001b[0m 46ms/step - accuracy: 0.7771 - loss: 0.6277 - val_accuracy: 0.7917 - val_loss: 0.5823 - learning_rate: 0.0010\n",
            "Epoch 15/50\n",
            "\u001b[1m220/220\u001b[0m \u001b[32m━━━━━━━━━━━━━━━━━━━━\u001b[0m\u001b[37m\u001b[0m \u001b[1m10s\u001b[0m 44ms/step - accuracy: 0.7854 - loss: 0.5978 - val_accuracy: 0.8120 - val_loss: 0.5079 - learning_rate: 0.0010\n",
            "Epoch 16/50\n",
            "\u001b[1m220/220\u001b[0m \u001b[32m━━━━━━━━━━━━━━━━━━━━\u001b[0m\u001b[37m\u001b[0m \u001b[1m9s\u001b[0m 43ms/step - accuracy: 0.8092 - loss: 0.5102 - val_accuracy: 0.8531 - val_loss: 0.3951 - learning_rate: 0.0010\n",
            "Epoch 17/50\n",
            "\u001b[1m220/220\u001b[0m \u001b[32m━━━━━━━━━━━━━━━━━━━━\u001b[0m\u001b[37m\u001b[0m \u001b[1m10s\u001b[0m 44ms/step - accuracy: 0.8463 - loss: 0.4239 - val_accuracy: 0.8411 - val_loss: 0.4399 - learning_rate: 0.0010\n",
            "Epoch 18/50\n",
            "\u001b[1m220/220\u001b[0m \u001b[32m━━━━━━━━━━━━━━━━━━━━\u001b[0m\u001b[37m\u001b[0m \u001b[1m10s\u001b[0m 44ms/step - accuracy: 0.8427 - loss: 0.4337 - val_accuracy: 0.8479 - val_loss: 0.4600 - learning_rate: 0.0010\n",
            "Epoch 19/50\n",
            "\u001b[1m220/220\u001b[0m \u001b[32m━━━━━━━━━━━━━━━━━━━━\u001b[0m\u001b[37m\u001b[0m \u001b[1m10s\u001b[0m 45ms/step - accuracy: 0.8521 - loss: 0.4139 - val_accuracy: 0.8331 - val_loss: 0.4674 - learning_rate: 0.0010\n",
            "Epoch 20/50\n",
            "\u001b[1m220/220\u001b[0m \u001b[32m━━━━━━━━━━━━━━━━━━━━\u001b[0m\u001b[37m\u001b[0m \u001b[1m10s\u001b[0m 46ms/step - accuracy: 0.8743 - loss: 0.3480 - val_accuracy: 0.9004 - val_loss: 0.2818 - learning_rate: 1.0000e-04\n",
            "Epoch 21/50\n",
            "\u001b[1m220/220\u001b[0m \u001b[32m━━━━━━━━━━━━━━━━━━━━\u001b[0m\u001b[37m\u001b[0m \u001b[1m10s\u001b[0m 45ms/step - accuracy: 0.9000 - loss: 0.2860 - val_accuracy: 0.9067 - val_loss: 0.2599 - learning_rate: 1.0000e-04\n",
            "Epoch 22/50\n",
            "\u001b[1m220/220\u001b[0m \u001b[32m━━━━━━━━━━━━━━━━━━━━\u001b[0m\u001b[37m\u001b[0m \u001b[1m10s\u001b[0m 47ms/step - accuracy: 0.9007 - loss: 0.2711 - val_accuracy: 0.9116 - val_loss: 0.2432 - learning_rate: 1.0000e-04\n",
            "Epoch 23/50\n",
            "\u001b[1m220/220\u001b[0m \u001b[32m━━━━━━━━━━━━━━━━━━━━\u001b[0m\u001b[37m\u001b[0m \u001b[1m10s\u001b[0m 46ms/step - accuracy: 0.9153 - loss: 0.2439 - val_accuracy: 0.9193 - val_loss: 0.2304 - learning_rate: 1.0000e-04\n",
            "Epoch 24/50\n",
            "\u001b[1m220/220\u001b[0m \u001b[32m━━━━━━━━━━━━━━━━━━━━\u001b[0m\u001b[37m\u001b[0m \u001b[1m10s\u001b[0m 46ms/step - accuracy: 0.9221 - loss: 0.2287 - val_accuracy: 0.9233 - val_loss: 0.2210 - learning_rate: 1.0000e-04\n",
            "Epoch 25/50\n",
            "\u001b[1m220/220\u001b[0m \u001b[32m━━━━━━━━━━━━━━━━━━━━\u001b[0m\u001b[37m\u001b[0m \u001b[1m10s\u001b[0m 46ms/step - accuracy: 0.9269 - loss: 0.2164 - val_accuracy: 0.9255 - val_loss: 0.2118 - learning_rate: 1.0000e-04\n",
            "Epoch 26/50\n",
            "\u001b[1m220/220\u001b[0m \u001b[32m━━━━━━━━━━━━━━━━━━━━\u001b[0m\u001b[37m\u001b[0m \u001b[1m10s\u001b[0m 46ms/step - accuracy: 0.9295 - loss: 0.2088 - val_accuracy: 0.9278 - val_loss: 0.2046 - learning_rate: 1.0000e-04\n",
            "Epoch 27/50\n",
            "\u001b[1m220/220\u001b[0m \u001b[32m━━━━━━━━━━━━━━━━━━━━\u001b[0m\u001b[37m\u001b[0m \u001b[1m10s\u001b[0m 45ms/step - accuracy: 0.9330 - loss: 0.1971 - val_accuracy: 0.9341 - val_loss: 0.1928 - learning_rate: 1.0000e-04\n",
            "Epoch 28/50\n",
            "\u001b[1m220/220\u001b[0m \u001b[32m━━━━━━━━━━━━━━━━━━━━\u001b[0m\u001b[37m\u001b[0m \u001b[1m10s\u001b[0m 44ms/step - accuracy: 0.9316 - loss: 0.1917 - val_accuracy: 0.9372 - val_loss: 0.1893 - learning_rate: 1.0000e-04\n",
            "Epoch 29/50\n",
            "\u001b[1m220/220\u001b[0m \u001b[32m━━━━━━━━━━━━━━━━━━━━\u001b[0m\u001b[37m\u001b[0m \u001b[1m10s\u001b[0m 48ms/step - accuracy: 0.9374 - loss: 0.1838 - val_accuracy: 0.9409 - val_loss: 0.1751 - learning_rate: 1.0000e-04\n",
            "Epoch 30/50\n",
            "\u001b[1m220/220\u001b[0m \u001b[32m━━━━━━━━━━━━━━━━━━━━\u001b[0m\u001b[37m\u001b[0m \u001b[1m10s\u001b[0m 45ms/step - accuracy: 0.9485 - loss: 0.1630 - val_accuracy: 0.9449 - val_loss: 0.1637 - learning_rate: 1.0000e-04\n",
            "Epoch 31/50\n",
            "\u001b[1m220/220\u001b[0m \u001b[32m━━━━━━━━━━━━━━━━━━━━\u001b[0m\u001b[37m\u001b[0m \u001b[1m10s\u001b[0m 45ms/step - accuracy: 0.9463 - loss: 0.1674 - val_accuracy: 0.9464 - val_loss: 0.1616 - learning_rate: 1.0000e-04\n",
            "Epoch 32/50\n",
            "\u001b[1m220/220\u001b[0m \u001b[32m━━━━━━━━━━━━━━━━━━━━\u001b[0m\u001b[37m\u001b[0m \u001b[1m9s\u001b[0m 42ms/step - accuracy: 0.9424 - loss: 0.1679 - val_accuracy: 0.9464 - val_loss: 0.1532 - learning_rate: 1.0000e-04\n",
            "Epoch 33/50\n",
            "\u001b[1m220/220\u001b[0m \u001b[32m━━━━━━━━━━━━━━━━━━━━\u001b[0m\u001b[37m\u001b[0m \u001b[1m10s\u001b[0m 44ms/step - accuracy: 0.9487 - loss: 0.1523 - val_accuracy: 0.9504 - val_loss: 0.1403 - learning_rate: 1.0000e-04\n",
            "Epoch 34/50\n",
            "\u001b[1m220/220\u001b[0m \u001b[32m━━━━━━━━━━━━━━━━━━━━\u001b[0m\u001b[37m\u001b[0m \u001b[1m9s\u001b[0m 43ms/step - accuracy: 0.9563 - loss: 0.1346 - val_accuracy: 0.9538 - val_loss: 0.1327 - learning_rate: 1.0000e-04\n",
            "Epoch 35/50\n",
            "\u001b[1m220/220\u001b[0m \u001b[32m━━━━━━━━━━━━━━━━━━━━\u001b[0m\u001b[37m\u001b[0m \u001b[1m9s\u001b[0m 42ms/step - accuracy: 0.9570 - loss: 0.1376 - val_accuracy: 0.9558 - val_loss: 0.1272 - learning_rate: 1.0000e-04\n",
            "Epoch 36/50\n",
            "\u001b[1m220/220\u001b[0m \u001b[32m━━━━━━━━━━━━━━━━━━━━\u001b[0m\u001b[37m\u001b[0m \u001b[1m9s\u001b[0m 43ms/step - accuracy: 0.9596 - loss: 0.1281 - val_accuracy: 0.9578 - val_loss: 0.1206 - learning_rate: 1.0000e-04\n",
            "Epoch 37/50\n",
            "\u001b[1m220/220\u001b[0m \u001b[32m━━━━━━━━━━━━━━━━━━━━\u001b[0m\u001b[37m\u001b[0m \u001b[1m10s\u001b[0m 43ms/step - accuracy: 0.9641 - loss: 0.1145 - val_accuracy: 0.9615 - val_loss: 0.1167 - learning_rate: 1.0000e-04\n",
            "Epoch 38/50\n",
            "\u001b[1m220/220\u001b[0m \u001b[32m━━━━━━━━━━━━━━━━━━━━\u001b[0m\u001b[37m\u001b[0m \u001b[1m9s\u001b[0m 43ms/step - accuracy: 0.9682 - loss: 0.1044 - val_accuracy: 0.9655 - val_loss: 0.1056 - learning_rate: 1.0000e-04\n",
            "Epoch 39/50\n",
            "\u001b[1m220/220\u001b[0m \u001b[32m━━━━━━━━━━━━━━━━━━━━\u001b[0m\u001b[37m\u001b[0m \u001b[1m9s\u001b[0m 43ms/step - accuracy: 0.9655 - loss: 0.1037 - val_accuracy: 0.9680 - val_loss: 0.1022 - learning_rate: 1.0000e-04\n",
            "Epoch 40/50\n",
            "\u001b[1m220/220\u001b[0m \u001b[32m━━━━━━━━━━━━━━━━━━━━\u001b[0m\u001b[37m\u001b[0m \u001b[1m10s\u001b[0m 44ms/step - accuracy: 0.9709 - loss: 0.0959 - val_accuracy: 0.9700 - val_loss: 0.0932 - learning_rate: 1.0000e-04\n",
            "Epoch 41/50\n",
            "\u001b[1m220/220\u001b[0m \u001b[32m━━━━━━━━━━━━━━━━━━━━\u001b[0m\u001b[37m\u001b[0m \u001b[1m10s\u001b[0m 43ms/step - accuracy: 0.9657 - loss: 0.0983 - val_accuracy: 0.9715 - val_loss: 0.0876 - learning_rate: 1.0000e-04\n",
            "Epoch 42/50\n",
            "\u001b[1m220/220\u001b[0m \u001b[32m━━━━━━━━━━━━━━━━━━━━\u001b[0m\u001b[37m\u001b[0m \u001b[1m9s\u001b[0m 43ms/step - accuracy: 0.9701 - loss: 0.0932 - val_accuracy: 0.9743 - val_loss: 0.0842 - learning_rate: 1.0000e-04\n",
            "Epoch 43/50\n",
            "\u001b[1m220/220\u001b[0m \u001b[32m━━━━━━━━━━━━━━━━━━━━\u001b[0m\u001b[37m\u001b[0m \u001b[1m10s\u001b[0m 43ms/step - accuracy: 0.9737 - loss: 0.0867 - val_accuracy: 0.9763 - val_loss: 0.0781 - learning_rate: 1.0000e-04\n",
            "Epoch 44/50\n",
            "\u001b[1m220/220\u001b[0m \u001b[32m━━━━━━━━━━━━━━━━━━━━\u001b[0m\u001b[37m\u001b[0m \u001b[1m9s\u001b[0m 43ms/step - accuracy: 0.9754 - loss: 0.0816 - val_accuracy: 0.9777 - val_loss: 0.0743 - learning_rate: 1.0000e-04\n",
            "Epoch 45/50\n",
            "\u001b[1m220/220\u001b[0m \u001b[32m━━━━━━━━━━━━━━━━━━━━\u001b[0m\u001b[37m\u001b[0m \u001b[1m10s\u001b[0m 43ms/step - accuracy: 0.9774 - loss: 0.0729 - val_accuracy: 0.9792 - val_loss: 0.0697 - learning_rate: 1.0000e-04\n",
            "Epoch 46/50\n",
            "\u001b[1m220/220\u001b[0m \u001b[32m━━━━━━━━━━━━━━━━━━━━\u001b[0m\u001b[37m\u001b[0m \u001b[1m9s\u001b[0m 43ms/step - accuracy: 0.9782 - loss: 0.0721 - val_accuracy: 0.9809 - val_loss: 0.0658 - learning_rate: 1.0000e-04\n",
            "Epoch 47/50\n",
            "\u001b[1m220/220\u001b[0m \u001b[32m━━━━━━━━━━━━━━━━━━━━\u001b[0m\u001b[37m\u001b[0m \u001b[1m10s\u001b[0m 43ms/step - accuracy: 0.9798 - loss: 0.0634 - val_accuracy: 0.9806 - val_loss: 0.0619 - learning_rate: 1.0000e-04\n",
            "Epoch 48/50\n",
            "\u001b[1m220/220\u001b[0m \u001b[32m━━━━━━━━━━━━━━━━━━━━\u001b[0m\u001b[37m\u001b[0m \u001b[1m10s\u001b[0m 44ms/step - accuracy: 0.9803 - loss: 0.0659 - val_accuracy: 0.9806 - val_loss: 0.0620 - learning_rate: 1.0000e-04\n",
            "Epoch 49/50\n",
            "\u001b[1m220/220\u001b[0m \u001b[32m━━━━━━━━━━━━━━━━━━━━\u001b[0m\u001b[37m\u001b[0m \u001b[1m10s\u001b[0m 43ms/step - accuracy: 0.9812 - loss: 0.0627 - val_accuracy: 0.9832 - val_loss: 0.0563 - learning_rate: 1.0000e-04\n",
            "Epoch 50/50\n",
            "\u001b[1m220/220\u001b[0m \u001b[32m━━━━━━━━━━━━━━━━━━━━\u001b[0m\u001b[37m\u001b[0m \u001b[1m10s\u001b[0m 44ms/step - accuracy: 0.9785 - loss: 0.0655 - val_accuracy: 0.9840 - val_loss: 0.0526 - learning_rate: 1.0000e-04\n"
          ]
        },
        {
          "output_type": "execute_result",
          "data": {
            "text/plain": [
              "<keras.src.callbacks.history.History at 0x79b8c1dcfac0>"
            ]
          },
          "metadata": {},
          "execution_count": 73
        }
      ]
    },
    {
      "cell_type": "code",
      "source": [
        "with open('cnn_model_batch_def.pkl', 'wb') as file:\n",
        "    pickle.dump(model, file)"
      ],
      "metadata": {
        "id": "kwDGofuwkChB"
      },
      "execution_count": 87,
      "outputs": []
    },
    {
      "cell_type": "code",
      "execution_count": 79,
      "metadata": {
        "id": "uKjXN3cMp1nN",
        "colab": {
          "base_uri": "https://localhost:8080/"
        },
        "outputId": "a42b3647-e71e-4699-ead0-d4d7f9c3837e"
      },
      "outputs": [
        {
          "output_type": "stream",
          "name": "stdout",
          "text": [
            "\u001b[1m110/110\u001b[0m \u001b[32m━━━━━━━━━━━━━━━━━━━━\u001b[0m\u001b[37m\u001b[0m \u001b[1m1s\u001b[0m 13ms/step\n",
            "Accuracy: 0.98\n",
            "Precision: 0.98\n",
            "Recall: 0.98\n",
            "F1 Score: 0.98\n",
            "              precision    recall  f1-score   support\n",
            "\n",
            "           0       0.99      0.92      0.96       117\n",
            "           1       0.94      0.90      0.92       186\n",
            "           2       0.93      0.98      0.95       410\n",
            "           3       1.00      0.79      0.88        42\n",
            "           4       1.00      1.00      1.00       351\n",
            "           5       0.99      1.00      0.99      2354\n",
            "           6       1.00      0.98      0.99        45\n",
            "\n",
            "    accuracy                           0.98      3505\n",
            "   macro avg       0.98      0.94      0.96      3505\n",
            "weighted avg       0.98      0.98      0.98      3505\n",
            "\n",
            "[[ 108    3    3    0    0    3    0]\n",
            " [   1  167   16    0    0    2    0]\n",
            " [   0    2  403    0    0    5    0]\n",
            " [   0    1    5   33    0    3    0]\n",
            " [   0    0    0    0  350    1    0]\n",
            " [   0    4    7    0    0 2343    0]\n",
            " [   0    0    0    0    0    1   44]]\n"
          ]
        }
      ],
      "source": [
        "from sklearn.metrics import accuracy_score, precision_score, recall_score, f1_score\n",
        "\n",
        "# Assume y_test contains the true labels, and y_pred contains the predicted labels\n",
        "# y_pred is the output from the model's prediction (e.g., a CNN model)\n",
        "\n",
        "y_pred = model.predict(X_val)\n",
        "y_pred = np.argmax(y_pred, axis=1)\n",
        "\n",
        "# Calculate accuracy\n",
        "accuracy = accuracy_score(y_val, y_pred)\n",
        "print(f\"Accuracy: {accuracy:.2f}\")\n",
        "\n",
        "# Calculate precision\n",
        "precision = precision_score(y_val, y_pred, average='weighted')\n",
        "print(f\"Precision: {precision:.2f}\")\n",
        "\n",
        "# Calculate recall\n",
        "recall = recall_score(y_val, y_pred, average='weighted')\n",
        "print(f\"Recall: {recall:.2f}\")\n",
        "\n",
        "# Calculate F1 score\n",
        "f1 = f1_score(y_val, y_pred, average='weighted')\n",
        "print(f\"F1 Score: {f1:.2f}\")\n",
        "\n",
        "print(classification_report(y_val, y_pred))\n",
        "print(confusion_matrix(y_val, y_pred))"
      ]
    },
    {
      "cell_type": "code",
      "execution_count": 63,
      "metadata": {
        "id": "adHJEV6TxTvW",
        "colab": {
          "base_uri": "https://localhost:8080/"
        },
        "outputId": "5030658d-81a3-471e-9661-87fad6e17944"
      },
      "outputs": [
        {
          "output_type": "stream",
          "name": "stdout",
          "text": [
            "Random Forest Accuracy: 1.0\n"
          ]
        }
      ],
      "source": [
        "from sklearn.ensemble import RandomForestClassifier\n",
        "from sklearn.metrics import accuracy_score\n",
        "\n",
        "# Initialize Random Forest\n",
        "rf = RandomForestClassifier(n_estimators=100, random_state=42)\n",
        "\n",
        "# Fit on feature vectors (e.g., after PCA)\n",
        "rf.fit(X_whitened_reshaped, y_train)\n",
        "\n",
        "# Predict on the test set\n",
        "y_pred = rf.predict(X_test_whitened_reshaped)\n",
        "\n",
        "# Evaluate accuracy\n",
        "accuracy = accuracy_score(y_test, y_pred)\n",
        "print(f\"Random Forest Accuracy: {accuracy}\")\n"
      ]
    },
    {
      "cell_type": "code",
      "source": [
        "with open('rf_model.pkl', 'wb') as file:\n",
        "    pickle.dump(rf, file)"
      ],
      "metadata": {
        "id": "APdakgPYkJE8"
      },
      "execution_count": 88,
      "outputs": []
    },
    {
      "cell_type": "code",
      "source": [
        "y_pred_val_f = rf.predict(X_val_whitened_reshaped)\n",
        "print(classification_report(y_val, y_pred_val_f))\n",
        "print(confusion_matrix(y_val, y_pred_val_f))"
      ],
      "metadata": {
        "colab": {
          "base_uri": "https://localhost:8080/"
        },
        "id": "oaDMv7ckZ7BA",
        "outputId": "2ee356d7-2b6f-4feb-bcb3-2854744b0dd1"
      },
      "execution_count": 66,
      "outputs": [
        {
          "output_type": "stream",
          "name": "stdout",
          "text": [
            "              precision    recall  f1-score   support\n",
            "\n",
            "           0       1.00      1.00      1.00       117\n",
            "           1       1.00      1.00      1.00       186\n",
            "           2       1.00      1.00      1.00       410\n",
            "           3       1.00      1.00      1.00        42\n",
            "           4       1.00      1.00      1.00       351\n",
            "           5       1.00      1.00      1.00      2354\n",
            "           6       1.00      1.00      1.00        45\n",
            "\n",
            "    accuracy                           1.00      3505\n",
            "   macro avg       1.00      1.00      1.00      3505\n",
            "weighted avg       1.00      1.00      1.00      3505\n",
            "\n",
            "[[ 117    0    0    0    0    0    0]\n",
            " [   0  186    0    0    0    0    0]\n",
            " [   0    0  410    0    0    0    0]\n",
            " [   0    0    0   42    0    0    0]\n",
            " [   0    0    0    0  351    0    0]\n",
            " [   0    0    0    0    0 2354    0]\n",
            " [   0    0    0    0    0    0   45]]\n"
          ]
        }
      ]
    },
    {
      "cell_type": "code",
      "source": [
        "\n",
        "# Data Augmentation\n",
        "datagen = ImageDataGenerator(\n",
        "    rotation_range=20,         # Randomly rotate images by up to 20 degrees\n",
        "    width_shift_range=0.2,     # Randomly shift images horizontally\n",
        "    height_shift_range=0.2,    # Randomly shift images vertically\n",
        "    shear_range=0.2,           # Apply shear transformations\n",
        "    zoom_range=0.2,            # Randomly zoom in/out on images\n",
        "    horizontal_flip=True,      # Randomly flip images horizontally\n",
        "    fill_mode='nearest'        # Fill empty pixels after transformations\n",
        ")\n",
        "\n",
        "# CNN Model\n",
        "model_1 = Sequential([\n",
        "    Conv2D(32, (3, 3), activation='relu', input_shape=(64, 64, 3)),\n",
        "    MaxPooling2D((2, 2)),\n",
        "    Conv2D(64, (3, 3), activation='relu'),\n",
        "    MaxPooling2D((2, 2)),\n",
        "    Flatten(),\n",
        "    Dense(128, activation='relu'),\n",
        "    Dense(10, activation='softmax')  # Assuming 10 classes for classification\n",
        "])\n",
        "\n",
        "\n",
        "# CNN Model\n",
        "model_1 = Sequential([\n",
        "    Conv2D(32, (3, 3), activation='relu', input_shape=(64, 64, 3)),\n",
        "    MaxPooling2D((2, 2)),\n",
        "    Conv2D(64, (3, 3), activation='relu'),\n",
        "    MaxPooling2D((2, 2)),\n",
        "    Flatten(),\n",
        "    Dense(128, activation='relu'),\n",
        "    Dense(10, activation='softmax')  # Assuming 10 classes for classification\n",
        "])\n",
        "\n",
        "model_1.compile(optimizer='adam',\n",
        "              loss='sparse_categorical_crossentropy',  # Assuming labels are integer encoded\n",
        "              metrics=['accuracy'])"
      ],
      "metadata": {
        "colab": {
          "base_uri": "https://localhost:8080/"
        },
        "id": "GVS5HkTMhI_Q",
        "outputId": "781bbf02-ae2c-44a2-e38d-d27431cddff4"
      },
      "execution_count": 81,
      "outputs": [
        {
          "output_type": "stream",
          "name": "stderr",
          "text": [
            "/usr/local/lib/python3.10/dist-packages/keras/src/layers/convolutional/base_conv.py:107: UserWarning: Do not pass an `input_shape`/`input_dim` argument to a layer. When using Sequential models, prefer using an `Input(shape)` object as the first layer in the model instead.\n",
            "  super().__init__(activity_regularizer=activity_regularizer, **kwargs)\n"
          ]
        }
      ]
    },
    {
      "cell_type": "code",
      "source": [
        "# Fit the model using the augmented data generator\n",
        "# Assuming X_train and y_train are your training images and labels\n",
        "from tensorflow.keras.callbacks import ReduceLROnPlateau\n",
        "\n",
        "datagen.fit(X_train)  # Fit the data generator to your training images\n",
        "\n",
        "lr_scheduler = ReduceLROnPlateau(monitor='val_loss', factor=0.1, patience=3)\n",
        "model_1.fit(X_train, y_train, validation_data=(X_test, y_test), epochs=15, callbacks=[lr_scheduler], batch_size = 32)"
      ],
      "metadata": {
        "colab": {
          "base_uri": "https://localhost:8080/"
        },
        "id": "RQQPycV5hYVt",
        "outputId": "4c83bc03-2a99-4d4a-d8f3-d823010886b6"
      },
      "execution_count": 83,
      "outputs": [
        {
          "output_type": "stream",
          "name": "stdout",
          "text": [
            "Epoch 1/15\n",
            "\u001b[1m220/220\u001b[0m \u001b[32m━━━━━━━━━━━━━━━━━━━━\u001b[0m\u001b[37m\u001b[0m \u001b[1m11s\u001b[0m 44ms/step - accuracy: 0.5964 - loss: 21.1138 - val_accuracy: 0.7161 - val_loss: 0.8457 - learning_rate: 0.0010\n",
            "Epoch 2/15\n",
            "\u001b[1m220/220\u001b[0m \u001b[32m━━━━━━━━━━━━━━━━━━━━\u001b[0m\u001b[37m\u001b[0m \u001b[1m10s\u001b[0m 44ms/step - accuracy: 0.7055 - loss: 0.8714 - val_accuracy: 0.7155 - val_loss: 0.7984 - learning_rate: 0.0010\n",
            "Epoch 3/15\n",
            "\u001b[1m220/220\u001b[0m \u001b[32m━━━━━━━━━━━━━━━━━━━━\u001b[0m\u001b[37m\u001b[0m \u001b[1m9s\u001b[0m 42ms/step - accuracy: 0.7023 - loss: 0.8770 - val_accuracy: 0.7472 - val_loss: 0.7224 - learning_rate: 0.0010\n",
            "Epoch 4/15\n",
            "\u001b[1m220/220\u001b[0m \u001b[32m━━━━━━━━━━━━━━━━━━━━\u001b[0m\u001b[37m\u001b[0m \u001b[1m9s\u001b[0m 42ms/step - accuracy: 0.7319 - loss: 0.7547 - val_accuracy: 0.7544 - val_loss: 0.6843 - learning_rate: 0.0010\n",
            "Epoch 5/15\n",
            "\u001b[1m220/220\u001b[0m \u001b[32m━━━━━━━━━━━━━━━━━━━━\u001b[0m\u001b[37m\u001b[0m \u001b[1m9s\u001b[0m 42ms/step - accuracy: 0.7560 - loss: 0.6607 - val_accuracy: 0.7963 - val_loss: 0.5770 - learning_rate: 0.0010\n",
            "Epoch 6/15\n",
            "\u001b[1m220/220\u001b[0m \u001b[32m━━━━━━━━━━━━━━━━━━━━\u001b[0m\u001b[37m\u001b[0m \u001b[1m9s\u001b[0m 43ms/step - accuracy: 0.7723 - loss: 0.6408 - val_accuracy: 0.7598 - val_loss: 0.6724 - learning_rate: 0.0010\n",
            "Epoch 7/15\n",
            "\u001b[1m220/220\u001b[0m \u001b[32m━━━━━━━━━━━━━━━━━━━━\u001b[0m\u001b[37m\u001b[0m \u001b[1m9s\u001b[0m 43ms/step - accuracy: 0.7203 - loss: 0.7987 - val_accuracy: 0.7586 - val_loss: 0.6466 - learning_rate: 0.0010\n",
            "Epoch 8/15\n",
            "\u001b[1m220/220\u001b[0m \u001b[32m━━━━━━━━━━━━━━━━━━━━\u001b[0m\u001b[37m\u001b[0m \u001b[1m9s\u001b[0m 43ms/step - accuracy: 0.7778 - loss: 0.6135 - val_accuracy: 0.8120 - val_loss: 0.5199 - learning_rate: 0.0010\n",
            "Epoch 9/15\n",
            "\u001b[1m220/220\u001b[0m \u001b[32m━━━━━━━━━━━━━━━━━━━━\u001b[0m\u001b[37m\u001b[0m \u001b[1m9s\u001b[0m 43ms/step - accuracy: 0.8219 - loss: 0.5133 - val_accuracy: 0.8528 - val_loss: 0.4242 - learning_rate: 0.0010\n",
            "Epoch 10/15\n",
            "\u001b[1m220/220\u001b[0m \u001b[32m━━━━━━━━━━━━━━━━━━━━\u001b[0m\u001b[37m\u001b[0m \u001b[1m9s\u001b[0m 43ms/step - accuracy: 0.8548 - loss: 0.4171 - val_accuracy: 0.8029 - val_loss: 0.5485 - learning_rate: 0.0010\n",
            "Epoch 11/15\n",
            "\u001b[1m220/220\u001b[0m \u001b[32m━━━━━━━━━━━━━━━━━━━━\u001b[0m\u001b[37m\u001b[0m \u001b[1m10s\u001b[0m 43ms/step - accuracy: 0.8641 - loss: 0.4024 - val_accuracy: 0.9010 - val_loss: 0.2824 - learning_rate: 0.0010\n",
            "Epoch 12/15\n",
            "\u001b[1m220/220\u001b[0m \u001b[32m━━━━━━━━━━━━━━━━━━━━\u001b[0m\u001b[37m\u001b[0m \u001b[1m9s\u001b[0m 43ms/step - accuracy: 0.8968 - loss: 0.3040 - val_accuracy: 0.9418 - val_loss: 0.1904 - learning_rate: 0.0010\n",
            "Epoch 13/15\n",
            "\u001b[1m220/220\u001b[0m \u001b[32m━━━━━━━━━━━━━━━━━━━━\u001b[0m\u001b[37m\u001b[0m \u001b[1m10s\u001b[0m 43ms/step - accuracy: 0.9147 - loss: 0.2537 - val_accuracy: 0.9361 - val_loss: 0.2118 - learning_rate: 0.0010\n",
            "Epoch 14/15\n",
            "\u001b[1m220/220\u001b[0m \u001b[32m━━━━━━━━━━━━━━━━━━━━\u001b[0m\u001b[37m\u001b[0m \u001b[1m10s\u001b[0m 43ms/step - accuracy: 0.9326 - loss: 0.1971 - val_accuracy: 0.9441 - val_loss: 0.1600 - learning_rate: 0.0010\n",
            "Epoch 15/15\n",
            "\u001b[1m220/220\u001b[0m \u001b[32m━━━━━━━━━━━━━━━━━━━━\u001b[0m\u001b[37m\u001b[0m \u001b[1m9s\u001b[0m 42ms/step - accuracy: 0.9434 - loss: 0.1689 - val_accuracy: 0.9504 - val_loss: 0.1596 - learning_rate: 0.0010\n"
          ]
        },
        {
          "output_type": "execute_result",
          "data": {
            "text/plain": [
              "<keras.src.callbacks.history.History at 0x79b8a31cc430>"
            ]
          },
          "metadata": {},
          "execution_count": 83
        }
      ]
    },
    {
      "cell_type": "code",
      "source": [
        "y_pred_val_cnn_1 = model_1.predict(X_val)\n",
        "y_pred_val_cnn_1 = np.argmax(y_pred_val_cnn_1, axis=1)\n",
        "print(classification_report(y_val, y_pred_val_cnn_1))\n",
        "print(confusion_matrix(y_val, y_pred_val_cnn_1))"
      ],
      "metadata": {
        "colab": {
          "base_uri": "https://localhost:8080/"
        },
        "id": "xdCl-55HheM1",
        "outputId": "c1108f77-0ae7-44f6-967b-23c954a552cb"
      },
      "execution_count": 85,
      "outputs": [
        {
          "output_type": "stream",
          "name": "stdout",
          "text": [
            "\u001b[1m110/110\u001b[0m \u001b[32m━━━━━━━━━━━━━━━━━━━━\u001b[0m\u001b[37m\u001b[0m \u001b[1m1s\u001b[0m 13ms/step\n",
            "              precision    recall  f1-score   support\n",
            "\n",
            "           0       0.98      0.89      0.93       117\n",
            "           1       0.94      0.85      0.90       186\n",
            "           2       0.86      0.95      0.90       410\n",
            "           3       0.92      0.81      0.86        42\n",
            "           4       0.97      0.86      0.91       351\n",
            "           5       0.97      0.98      0.97      2354\n",
            "           6       0.85      0.91      0.88        45\n",
            "\n",
            "    accuracy                           0.95      3505\n",
            "   macro avg       0.93      0.89      0.91      3505\n",
            "weighted avg       0.95      0.95      0.95      3505\n",
            "\n",
            "[[ 104    3    8    0    0    2    0]\n",
            " [   0  159    8    0    2   14    3]\n",
            " [   2    1  389    1    0   17    0]\n",
            " [   0    1    4   34    0    3    0]\n",
            " [   0    1    7    0  301   42    0]\n",
            " [   0    4   36    2    6 2302    4]\n",
            " [   0    0    0    0    0    4   41]]\n"
          ]
        }
      ]
    },
    {
      "cell_type": "code",
      "source": [
        "with open('cnn_model_batch_32.pkl', 'wb') as file:\n",
        "    pickle.dump(model_1, file)"
      ],
      "metadata": {
        "id": "494jUNGekO0T"
      },
      "execution_count": 89,
      "outputs": []
    },
    {
      "cell_type": "code",
      "source": [],
      "metadata": {
        "id": "W2BpJiUkkT-7"
      },
      "execution_count": null,
      "outputs": []
    }
  ],
  "metadata": {
    "colab": {
      "machine_shape": "hm",
      "provenance": [],
      "authorship_tag": "ABX9TyN+pJmKfT/qI6u8ErZXo6Ik",
      "include_colab_link": true
    },
    "kernelspec": {
      "display_name": "Python 3",
      "name": "python3"
    },
    "language_info": {
      "name": "python"
    }
  },
  "nbformat": 4,
  "nbformat_minor": 0
}